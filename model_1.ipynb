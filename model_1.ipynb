{
 "cells": [
  {
   "metadata": {},
   "cell_type": "markdown",
   "source": [
    "# Regression of Used Car Prices\n",
    "1. Read this [data](https://www.kaggle.com/competitions/playground-series-s4e9/data)\n",
    "2. Visualize this data by using Seaborn.\n",
    "3. Handle **missing** and **outlier** data.\n",
    "4. **FeatureEngineering** -> Create **NewFeature** **Scaling** & **Encoding**\n",
    "5. Build first model. This can be so simple.\n",
    "6. Improve this first simple model by exploring the other method.\n",
    "7. Evaluate the models.\n",
    "8. **HyperparameterTuning**\n",
    "9. **ModelEnsemble**\n",
    "10. **Prepare the Submission File**"
   ],
   "id": "7e369a240f0ee9e0"
  },
  {
   "metadata": {
    "ExecuteTime": {
     "end_time": "2024-12-09T11:53:45.660472Z",
     "start_time": "2024-12-09T11:53:44.341532Z"
    }
   },
   "cell_type": "code",
   "source": [
    "import pandas as pd\n",
    "\n",
    "train_df = pd.read_csv(\"data/train.csv\")\n",
    "test_df = pd.read_csv('data/test.csv')\n",
    "train_df.drop(columns=['id', 'model', 'engine'], inplace=True)\n",
    "test_df.drop(columns=['model', 'engine'], inplace=True)"
   ],
   "id": "afca15b72190e838",
   "outputs": [],
   "execution_count": 24
  },
  {
   "metadata": {},
   "cell_type": "markdown",
   "source": "# Handle ***the categorical data***",
   "id": "24e5606affa84cc1"
  },
  {
   "metadata": {
    "ExecuteTime": {
     "end_time": "2024-12-09T11:54:01.133810Z",
     "start_time": "2024-12-09T11:53:53.839408Z"
    }
   },
   "cell_type": "code",
   "source": [
    "freq_threshold = 750\n",
    "categorical_columns = ['brand', 'fuel_type', 'transmission', 'ext_col', 'int_col', 'accident', 'clean_title']\n",
    "\n",
    "def replace_low_frequency_categories(df, column, threshold):\n",
    "    # カテゴリとその頻度を計算\n",
    "    counts = df[column].value_counts()\n",
    "    # 頻度が閾値未満のカテゴリを \"other\" に置き換える\n",
    "    df[column] = df[column].apply(lambda x: x if counts.get(x, 0) >= threshold else 'other')\n",
    "\n",
    "#Cut the num of categories\n",
    "for column in categorical_columns:\n",
    "    replace_low_frequency_categories(train_df, column, freq_threshold)\n",
    "    replace_low_frequency_categories(test_df, column, freq_threshold)\n",
    "\n",
    "#OneHotEncoding\n",
    "dmd_train_df = pd.get_dummies(train_df, columns=categorical_columns)\n",
    "dmd_test_df = pd.get_dummies(test_df, columns=categorical_columns)"
   ],
   "id": "9614193d34a352e3",
   "outputs": [],
   "execution_count": 25
  },
  {
   "metadata": {},
   "cell_type": "markdown",
   "source": "# Handle ***the numeric data***.",
   "id": "b884138c2ede174a"
  },
  {
   "metadata": {
    "ExecuteTime": {
     "end_time": "2024-12-09T11:54:06.371154Z",
     "start_time": "2024-12-09T11:54:06.334202Z"
    }
   },
   "cell_type": "code",
   "source": [
    "from sklearn.preprocessing import StandardScaler\n",
    "\n",
    "numeric_data = [\"model_year\", \"milage\"]\n",
    "\n",
    "scaler = StandardScaler()\n",
    "dmd_train_df[numeric_data] = scaler.fit_transform(dmd_train_df[numeric_data])\n",
    "dmd_test_df[numeric_data] = scaler.transform(dmd_test_df[numeric_data])"
   ],
   "id": "33b80f01df404164",
   "outputs": [],
   "execution_count": 26
  },
  {
   "metadata": {},
   "cell_type": "markdown",
   "source": [
    "# Separate the ***dmd_train_df***.\n",
    "***X_train***=dmd_train_df.drop('price', axis=1)\n",
    "\n",
    "***y_train***=dmd_train_df['price']"
   ],
   "id": "8a78c547453ccf36"
  },
  {
   "metadata": {
    "ExecuteTime": {
     "end_time": "2024-12-09T11:54:11.531161Z",
     "start_time": "2024-12-09T11:54:11.493434Z"
    }
   },
   "cell_type": "code",
   "source": [
    "X_train=dmd_train_df.drop('price', axis=1)\n",
    "y_train=dmd_train_df['price']\n",
    "X_test=dmd_test_df.drop('id', axis=1)"
   ],
   "id": "36c727081904d094",
   "outputs": [],
   "execution_count": 27
  },
  {
   "metadata": {},
   "cell_type": "markdown",
   "source": [
    "# Use models\n",
    "- RandomForestRegressor()"
   ],
   "id": "3ebc9b10bae2ef76"
  },
  {
   "metadata": {
    "ExecuteTime": {
     "end_time": "2024-12-09T11:54:15.290672Z",
     "start_time": "2024-12-09T11:54:15.279425Z"
    }
   },
   "cell_type": "code",
   "source": [
    "from sklearn.ensemble import RandomForestRegressor\n",
    "models = [RandomForestRegressor()]"
   ],
   "id": "ce3e29918bb27525",
   "outputs": [],
   "execution_count": 28
  },
  {
   "metadata": {
    "jupyter": {
     "is_executing": true
    },
    "ExecuteTime": {
     "start_time": "2024-12-09T12:02:01.692895Z"
    }
   },
   "cell_type": "code",
   "source": "model_1=models[0].fit(X_train, y_train)",
   "id": "251ee6b079be99b2",
   "outputs": [],
   "execution_count": null
  },
  {
   "metadata": {
    "ExecuteTime": {
     "end_time": "2024-12-09T11:49:01.109505Z",
     "start_time": "2024-12-09T11:48:50.373178Z"
    }
   },
   "cell_type": "code",
   "source": [
    "from sklearn.metrics import mean_squared_error, mean_absolute_error, r2_score\n",
    "\n",
    "# 予測\n",
    "y_pred = model_1.predict(X_train)\n",
    "\n",
    "# ターゲットと予測値の型を確認\n",
    "print(\"y_train dtype:\", y_train.dtype)\n",
    "print(\"y_pred dtype:\", y_pred.dtype)\n",
    "\n",
    "# 評価指標を計算\n",
    "mse = mean_squared_error(y_train, y_pred)\n",
    "mae = mean_absolute_error(y_train, y_pred)\n",
    "r2 = r2_score(y_train, y_pred)\n",
    "\n",
    "print(\"Mean Squared Error (MSE):\", mse)\n",
    "print(\"Mean Absolute Error (MAE):\", mae)\n",
    "print(\"R^2 Score:\", r2)\n"
   ],
   "id": "1b8882cb5c172f4",
   "outputs": [
    {
     "name": "stdout",
     "output_type": "stream",
     "text": [
      "y_train dtype: float64\n",
      "y_pred dtype: float64\n",
      "Mean Squared Error (MSE): 1043968176.8615514\n",
      "Mean Absolute Error (MAE): 8777.109291190443\n",
      "R^2 Score: 0.8319564036033256\n"
     ]
    }
   ],
   "execution_count": 22
  },
  {
   "metadata": {
    "ExecuteTime": {
     "end_time": "2024-12-09T11:53:16.592968Z",
     "start_time": "2024-12-09T11:53:16.505909Z"
    }
   },
   "cell_type": "code",
   "source": [
    "predictions = model_1.predict(X_test)\n",
    "submission = pd.DataFrame({\n",
    "    'id': dmd_test_df['id'],\n",
    "    'Prediction': predictions\n",
    "})\n",
    "submission.to_csv(\"submission.csv\", index=False)"
   ],
   "id": "ff5b6ae614148c32",
   "outputs": [
    {
     "ename": "ValueError",
     "evalue": "The feature names should match those that were passed during fit.\nFeature names seen at fit time, yet now missing:\n- brand_Buick\n- brand_Genesis\n- brand_Lamborghini\n- brand_MINI\n- brand_Maserati\n- ...\n",
     "output_type": "error",
     "traceback": [
      "\u001B[1;31m---------------------------------------------------------------------------\u001B[0m",
      "\u001B[1;31mValueError\u001B[0m                                Traceback (most recent call last)",
      "Cell \u001B[1;32mIn[23], line 1\u001B[0m\n\u001B[1;32m----> 1\u001B[0m predictions \u001B[38;5;241m=\u001B[39m model_1\u001B[38;5;241m.\u001B[39mpredict(X_test)\n\u001B[0;32m      2\u001B[0m submission \u001B[38;5;241m=\u001B[39m pd\u001B[38;5;241m.\u001B[39mDataFrame({\n\u001B[0;32m      3\u001B[0m     \u001B[38;5;124m'\u001B[39m\u001B[38;5;124mid\u001B[39m\u001B[38;5;124m'\u001B[39m: dmd_test_df[\u001B[38;5;124m'\u001B[39m\u001B[38;5;124mid\u001B[39m\u001B[38;5;124m'\u001B[39m],\n\u001B[0;32m      4\u001B[0m     \u001B[38;5;124m'\u001B[39m\u001B[38;5;124mPrediction\u001B[39m\u001B[38;5;124m'\u001B[39m: predictions\n\u001B[0;32m      5\u001B[0m })\n\u001B[0;32m      6\u001B[0m submission\u001B[38;5;241m.\u001B[39mto_csv(\u001B[38;5;124m\"\u001B[39m\u001B[38;5;124msubmission.csv\u001B[39m\u001B[38;5;124m\"\u001B[39m, index\u001B[38;5;241m=\u001B[39m\u001B[38;5;28;01mFalse\u001B[39;00m)\n",
      "File \u001B[1;32m~\\miniconda3\\Lib\\site-packages\\sklearn\\ensemble\\_forest.py:1063\u001B[0m, in \u001B[0;36mForestRegressor.predict\u001B[1;34m(self, X)\u001B[0m\n\u001B[0;32m   1061\u001B[0m check_is_fitted(\u001B[38;5;28mself\u001B[39m)\n\u001B[0;32m   1062\u001B[0m \u001B[38;5;66;03m# Check data\u001B[39;00m\n\u001B[1;32m-> 1063\u001B[0m X \u001B[38;5;241m=\u001B[39m \u001B[38;5;28mself\u001B[39m\u001B[38;5;241m.\u001B[39m_validate_X_predict(X)\n\u001B[0;32m   1065\u001B[0m \u001B[38;5;66;03m# Assign chunk of trees to jobs\u001B[39;00m\n\u001B[0;32m   1066\u001B[0m n_jobs, _, _ \u001B[38;5;241m=\u001B[39m _partition_estimators(\u001B[38;5;28mself\u001B[39m\u001B[38;5;241m.\u001B[39mn_estimators, \u001B[38;5;28mself\u001B[39m\u001B[38;5;241m.\u001B[39mn_jobs)\n",
      "File \u001B[1;32m~\\miniconda3\\Lib\\site-packages\\sklearn\\ensemble\\_forest.py:641\u001B[0m, in \u001B[0;36mBaseForest._validate_X_predict\u001B[1;34m(self, X)\u001B[0m\n\u001B[0;32m    638\u001B[0m \u001B[38;5;28;01melse\u001B[39;00m:\n\u001B[0;32m    639\u001B[0m     force_all_finite \u001B[38;5;241m=\u001B[39m \u001B[38;5;28;01mTrue\u001B[39;00m\n\u001B[1;32m--> 641\u001B[0m X \u001B[38;5;241m=\u001B[39m \u001B[38;5;28mself\u001B[39m\u001B[38;5;241m.\u001B[39m_validate_data(\n\u001B[0;32m    642\u001B[0m     X,\n\u001B[0;32m    643\u001B[0m     dtype\u001B[38;5;241m=\u001B[39mDTYPE,\n\u001B[0;32m    644\u001B[0m     accept_sparse\u001B[38;5;241m=\u001B[39m\u001B[38;5;124m\"\u001B[39m\u001B[38;5;124mcsr\u001B[39m\u001B[38;5;124m\"\u001B[39m,\n\u001B[0;32m    645\u001B[0m     reset\u001B[38;5;241m=\u001B[39m\u001B[38;5;28;01mFalse\u001B[39;00m,\n\u001B[0;32m    646\u001B[0m     force_all_finite\u001B[38;5;241m=\u001B[39mforce_all_finite,\n\u001B[0;32m    647\u001B[0m )\n\u001B[0;32m    648\u001B[0m \u001B[38;5;28;01mif\u001B[39;00m issparse(X) \u001B[38;5;129;01mand\u001B[39;00m (X\u001B[38;5;241m.\u001B[39mindices\u001B[38;5;241m.\u001B[39mdtype \u001B[38;5;241m!=\u001B[39m np\u001B[38;5;241m.\u001B[39mintc \u001B[38;5;129;01mor\u001B[39;00m X\u001B[38;5;241m.\u001B[39mindptr\u001B[38;5;241m.\u001B[39mdtype \u001B[38;5;241m!=\u001B[39m np\u001B[38;5;241m.\u001B[39mintc):\n\u001B[0;32m    649\u001B[0m     \u001B[38;5;28;01mraise\u001B[39;00m \u001B[38;5;167;01mValueError\u001B[39;00m(\u001B[38;5;124m\"\u001B[39m\u001B[38;5;124mNo support for np.int64 index based sparse matrices\u001B[39m\u001B[38;5;124m\"\u001B[39m)\n",
      "File \u001B[1;32m~\\miniconda3\\Lib\\site-packages\\sklearn\\base.py:608\u001B[0m, in \u001B[0;36mBaseEstimator._validate_data\u001B[1;34m(self, X, y, reset, validate_separately, cast_to_ndarray, **check_params)\u001B[0m\n\u001B[0;32m    537\u001B[0m \u001B[38;5;28;01mdef\u001B[39;00m \u001B[38;5;21m_validate_data\u001B[39m(\n\u001B[0;32m    538\u001B[0m     \u001B[38;5;28mself\u001B[39m,\n\u001B[0;32m    539\u001B[0m     X\u001B[38;5;241m=\u001B[39m\u001B[38;5;124m\"\u001B[39m\u001B[38;5;124mno_validation\u001B[39m\u001B[38;5;124m\"\u001B[39m,\n\u001B[1;32m   (...)\u001B[0m\n\u001B[0;32m    544\u001B[0m     \u001B[38;5;241m*\u001B[39m\u001B[38;5;241m*\u001B[39mcheck_params,\n\u001B[0;32m    545\u001B[0m ):\n\u001B[0;32m    546\u001B[0m \u001B[38;5;250m    \u001B[39m\u001B[38;5;124;03m\"\"\"Validate input data and set or check the `n_features_in_` attribute.\u001B[39;00m\n\u001B[0;32m    547\u001B[0m \n\u001B[0;32m    548\u001B[0m \u001B[38;5;124;03m    Parameters\u001B[39;00m\n\u001B[1;32m   (...)\u001B[0m\n\u001B[0;32m    606\u001B[0m \u001B[38;5;124;03m        validated.\u001B[39;00m\n\u001B[0;32m    607\u001B[0m \u001B[38;5;124;03m    \"\"\"\u001B[39;00m\n\u001B[1;32m--> 608\u001B[0m     \u001B[38;5;28mself\u001B[39m\u001B[38;5;241m.\u001B[39m_check_feature_names(X, reset\u001B[38;5;241m=\u001B[39mreset)\n\u001B[0;32m    610\u001B[0m     \u001B[38;5;28;01mif\u001B[39;00m y \u001B[38;5;129;01mis\u001B[39;00m \u001B[38;5;28;01mNone\u001B[39;00m \u001B[38;5;129;01mand\u001B[39;00m \u001B[38;5;28mself\u001B[39m\u001B[38;5;241m.\u001B[39m_get_tags()[\u001B[38;5;124m\"\u001B[39m\u001B[38;5;124mrequires_y\u001B[39m\u001B[38;5;124m\"\u001B[39m]:\n\u001B[0;32m    611\u001B[0m         \u001B[38;5;28;01mraise\u001B[39;00m \u001B[38;5;167;01mValueError\u001B[39;00m(\n\u001B[0;32m    612\u001B[0m             \u001B[38;5;124mf\u001B[39m\u001B[38;5;124m\"\u001B[39m\u001B[38;5;124mThis \u001B[39m\u001B[38;5;132;01m{\u001B[39;00m\u001B[38;5;28mself\u001B[39m\u001B[38;5;241m.\u001B[39m\u001B[38;5;18m__class__\u001B[39m\u001B[38;5;241m.\u001B[39m\u001B[38;5;18m__name__\u001B[39m\u001B[38;5;132;01m}\u001B[39;00m\u001B[38;5;124m estimator \u001B[39m\u001B[38;5;124m\"\u001B[39m\n\u001B[0;32m    613\u001B[0m             \u001B[38;5;124m\"\u001B[39m\u001B[38;5;124mrequires y to be passed, but the target y is None.\u001B[39m\u001B[38;5;124m\"\u001B[39m\n\u001B[0;32m    614\u001B[0m         )\n",
      "File \u001B[1;32m~\\miniconda3\\Lib\\site-packages\\sklearn\\base.py:535\u001B[0m, in \u001B[0;36mBaseEstimator._check_feature_names\u001B[1;34m(self, X, reset)\u001B[0m\n\u001B[0;32m    530\u001B[0m \u001B[38;5;28;01mif\u001B[39;00m \u001B[38;5;129;01mnot\u001B[39;00m missing_names \u001B[38;5;129;01mand\u001B[39;00m \u001B[38;5;129;01mnot\u001B[39;00m unexpected_names:\n\u001B[0;32m    531\u001B[0m     message \u001B[38;5;241m+\u001B[39m\u001B[38;5;241m=\u001B[39m (\n\u001B[0;32m    532\u001B[0m         \u001B[38;5;124m\"\u001B[39m\u001B[38;5;124mFeature names must be in the same order as they were in fit.\u001B[39m\u001B[38;5;130;01m\\n\u001B[39;00m\u001B[38;5;124m\"\u001B[39m\n\u001B[0;32m    533\u001B[0m     )\n\u001B[1;32m--> 535\u001B[0m \u001B[38;5;28;01mraise\u001B[39;00m \u001B[38;5;167;01mValueError\u001B[39;00m(message)\n",
      "\u001B[1;31mValueError\u001B[0m: The feature names should match those that were passed during fit.\nFeature names seen at fit time, yet now missing:\n- brand_Buick\n- brand_Genesis\n- brand_Lamborghini\n- brand_MINI\n- brand_Maserati\n- ...\n"
     ]
    }
   ],
   "execution_count": 23
  }
 ],
 "metadata": {
  "kernelspec": {
   "display_name": "Python 3",
   "language": "python",
   "name": "python3"
  },
  "language_info": {
   "codemirror_mode": {
    "name": "ipython",
    "version": 2
   },
   "file_extension": ".py",
   "mimetype": "text/x-python",
   "name": "python",
   "nbconvert_exporter": "python",
   "pygments_lexer": "ipython2",
   "version": "2.7.6"
  }
 },
 "nbformat": 4,
 "nbformat_minor": 5
}
